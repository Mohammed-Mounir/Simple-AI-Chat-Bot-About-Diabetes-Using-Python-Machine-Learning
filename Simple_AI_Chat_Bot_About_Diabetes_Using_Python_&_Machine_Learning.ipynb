{
  "nbformat": 4,
  "nbformat_minor": 0,
  "metadata": {
    "colab": {
      "name": "Simple AI Chat Bot About Diabetes Using Python & Machine Learning.ipynb",
      "provenance": [],
      "collapsed_sections": [],
      "authorship_tag": "ABX9TyMMGw/6H/NPofiYe0DLWcaQ",
      "include_colab_link": true
    },
    "kernelspec": {
      "name": "python3",
      "display_name": "Python 3"
    },
    "language_info": {
      "name": "python"
    }
  },
  "cells": [
    {
      "cell_type": "markdown",
      "metadata": {
        "id": "view-in-github",
        "colab_type": "text"
      },
      "source": [
        "<a href=\"https://colab.research.google.com/github/Mohammed-Mounir/Simple-AI-Chat-Bot-About-Diabetes-Using-Python-Machine-Learning.ipynb/blob/main/Simple_AI_Chat_Bot_About_Diabetes_Using_Python_%26_Machine_Learning.ipynb\" target=\"_parent\"><img src=\"https://colab.research.google.com/assets/colab-badge.svg\" alt=\"Open In Colab\"/></a>"
      ]
    },
    {
      "cell_type": "code",
      "metadata": {
        "id": "_wqNZMAmdfOM"
      },
      "source": [
        "#description: This is a 'smart' chat bot program"
      ],
      "execution_count": null,
      "outputs": []
    },
    {
      "cell_type": "code",
      "metadata": {
        "colab": {
          "base_uri": "https://localhost:8080/"
        },
        "id": "L6hktUbvdtDz",
        "outputId": "615bae63-fb9a-4f1d-abe9-294d58db0ed8"
      },
      "source": [
        "pip install nltk"
      ],
      "execution_count": null,
      "outputs": [
        {
          "output_type": "stream",
          "text": [
            "Requirement already satisfied: nltk in /usr/local/lib/python3.7/dist-packages (3.2.5)\n",
            "Requirement already satisfied: six in /usr/local/lib/python3.7/dist-packages (from nltk) (1.15.0)\n"
          ],
          "name": "stdout"
        }
      ]
    },
    {
      "cell_type": "code",
      "metadata": {
        "colab": {
          "base_uri": "https://localhost:8080/"
        },
        "id": "ljmOxMWOd49k",
        "outputId": "8216fe79-f558-487a-874c-8624186c4eda"
      },
      "source": [
        "pip install newspaper3k"
      ],
      "execution_count": null,
      "outputs": [
        {
          "output_type": "stream",
          "text": [
            "Collecting newspaper3k\n",
            "\u001b[?25l  Downloading https://files.pythonhosted.org/packages/d7/b9/51afecb35bb61b188a4b44868001de348a0e8134b4dfa00ffc191567c4b9/newspaper3k-0.2.8-py3-none-any.whl (211kB)\n",
            "\u001b[K     |████████████████████████████████| 215kB 5.7MB/s \n",
            "\u001b[?25hRequirement already satisfied: Pillow>=3.3.0 in /usr/local/lib/python3.7/dist-packages (from newspaper3k) (7.1.2)\n",
            "Collecting feedparser>=5.2.1\n",
            "\u001b[?25l  Downloading https://files.pythonhosted.org/packages/1c/21/faf1bac028662cc8adb2b5ef7a6f3999a765baa2835331df365289b0ca56/feedparser-6.0.2-py3-none-any.whl (80kB)\n",
            "\u001b[K     |████████████████████████████████| 81kB 4.4MB/s \n",
            "\u001b[?25hRequirement already satisfied: beautifulsoup4>=4.4.1 in /usr/local/lib/python3.7/dist-packages (from newspaper3k) (4.6.3)\n",
            "Requirement already satisfied: requests>=2.10.0 in /usr/local/lib/python3.7/dist-packages (from newspaper3k) (2.23.0)\n",
            "Collecting jieba3k>=0.35.1\n",
            "\u001b[?25l  Downloading https://files.pythonhosted.org/packages/a9/cb/2c8332bcdc14d33b0bedd18ae0a4981a069c3513e445120da3c3f23a8aaa/jieba3k-0.35.1.zip (7.4MB)\n",
            "\u001b[K     |████████████████████████████████| 7.4MB 7.1MB/s \n",
            "\u001b[?25hRequirement already satisfied: python-dateutil>=2.5.3 in /usr/local/lib/python3.7/dist-packages (from newspaper3k) (2.8.1)\n",
            "Collecting tldextract>=2.0.1\n",
            "\u001b[?25l  Downloading https://files.pythonhosted.org/packages/7e/62/b6acd3129c5615b9860e670df07fd55b76175b63e6b7f68282c7cad38e9e/tldextract-3.1.0-py2.py3-none-any.whl (87kB)\n",
            "\u001b[K     |████████████████████████████████| 92kB 7.8MB/s \n",
            "\u001b[?25hRequirement already satisfied: PyYAML>=3.11 in /usr/local/lib/python3.7/dist-packages (from newspaper3k) (3.13)\n",
            "Requirement already satisfied: nltk>=3.2.1 in /usr/local/lib/python3.7/dist-packages (from newspaper3k) (3.2.5)\n",
            "Collecting tinysegmenter==0.3\n",
            "  Downloading https://files.pythonhosted.org/packages/17/82/86982e4b6d16e4febc79c2a1d68ee3b707e8a020c5d2bc4af8052d0f136a/tinysegmenter-0.3.tar.gz\n",
            "Collecting feedfinder2>=0.0.4\n",
            "  Downloading https://files.pythonhosted.org/packages/35/82/1251fefec3bb4b03fd966c7e7f7a41c9fc2bb00d823a34c13f847fd61406/feedfinder2-0.0.4.tar.gz\n",
            "Requirement already satisfied: lxml>=3.6.0 in /usr/local/lib/python3.7/dist-packages (from newspaper3k) (4.2.6)\n",
            "Collecting cssselect>=0.9.2\n",
            "  Downloading https://files.pythonhosted.org/packages/3b/d4/3b5c17f00cce85b9a1e6f91096e1cc8e8ede2e1be8e96b87ce1ed09e92c5/cssselect-1.1.0-py2.py3-none-any.whl\n",
            "Collecting sgmllib3k\n",
            "  Downloading https://files.pythonhosted.org/packages/9e/bd/3704a8c3e0942d711c1299ebf7b9091930adae6675d7c8f476a7ce48653c/sgmllib3k-1.0.0.tar.gz\n",
            "Requirement already satisfied: chardet<4,>=3.0.2 in /usr/local/lib/python3.7/dist-packages (from requests>=2.10.0->newspaper3k) (3.0.4)\n",
            "Requirement already satisfied: idna<3,>=2.5 in /usr/local/lib/python3.7/dist-packages (from requests>=2.10.0->newspaper3k) (2.10)\n",
            "Requirement already satisfied: urllib3!=1.25.0,!=1.25.1,<1.26,>=1.21.1 in /usr/local/lib/python3.7/dist-packages (from requests>=2.10.0->newspaper3k) (1.24.3)\n",
            "Requirement already satisfied: certifi>=2017.4.17 in /usr/local/lib/python3.7/dist-packages (from requests>=2.10.0->newspaper3k) (2020.12.5)\n",
            "Requirement already satisfied: six>=1.5 in /usr/local/lib/python3.7/dist-packages (from python-dateutil>=2.5.3->newspaper3k) (1.15.0)\n",
            "Requirement already satisfied: filelock>=3.0.8 in /usr/local/lib/python3.7/dist-packages (from tldextract>=2.0.1->newspaper3k) (3.0.12)\n",
            "Collecting requests-file>=1.4\n",
            "  Downloading https://files.pythonhosted.org/packages/77/86/cdb5e8eaed90796aa83a6d9f75cfbd37af553c47a291cd47bc410ef9bdb2/requests_file-1.5.1-py2.py3-none-any.whl\n",
            "Building wheels for collected packages: jieba3k, tinysegmenter, feedfinder2, sgmllib3k\n",
            "  Building wheel for jieba3k (setup.py) ... \u001b[?25l\u001b[?25hdone\n",
            "  Created wheel for jieba3k: filename=jieba3k-0.35.1-cp37-none-any.whl size=7398406 sha256=25b39acd79356c99ad69757877f77e6210df20dac452b6464cbaf9349c0362f4\n",
            "  Stored in directory: /root/.cache/pip/wheels/83/15/9c/a3f1f67e7f7181170ad37d32e503c35da20627c013f438ed34\n",
            "  Building wheel for tinysegmenter (setup.py) ... \u001b[?25l\u001b[?25hdone\n",
            "  Created wheel for tinysegmenter: filename=tinysegmenter-0.3-cp37-none-any.whl size=13538 sha256=3a0ff0d4368be67f765d542d16335ee31a9deeb876768a097457e9a0d94759da\n",
            "  Stored in directory: /root/.cache/pip/wheels/81/2b/43/a02ede72324dd40cdd7ca53aad718c7710628e91b8b0dc0f02\n",
            "  Building wheel for feedfinder2 (setup.py) ... \u001b[?25l\u001b[?25hdone\n",
            "  Created wheel for feedfinder2: filename=feedfinder2-0.0.4-cp37-none-any.whl size=3358 sha256=55ee76723848b5e9f9b0ae185d6e8b6e9d7fe3a3dca92b6db570c193ff248ed2\n",
            "  Stored in directory: /root/.cache/pip/wheels/de/03/ca/778e3a7a627e3d98836cc890e7cb40c7575424cfd3340f40ed\n",
            "  Building wheel for sgmllib3k (setup.py) ... \u001b[?25l\u001b[?25hdone\n",
            "  Created wheel for sgmllib3k: filename=sgmllib3k-1.0.0-cp37-none-any.whl size=6067 sha256=01d87d5c9e05b22a2d9d12f184e489a78283d26d63634de573ad5306747b6ddc\n",
            "  Stored in directory: /root/.cache/pip/wheels/f1/80/5a/444ba08a550cdd241bd9baf8bae44be750efe370adb944506a\n",
            "Successfully built jieba3k tinysegmenter feedfinder2 sgmllib3k\n",
            "Installing collected packages: sgmllib3k, feedparser, jieba3k, requests-file, tldextract, tinysegmenter, feedfinder2, cssselect, newspaper3k\n",
            "Successfully installed cssselect-1.1.0 feedfinder2-0.0.4 feedparser-6.0.2 jieba3k-0.35.1 newspaper3k-0.2.8 requests-file-1.5.1 sgmllib3k-1.0.0 tinysegmenter-0.3 tldextract-3.1.0\n"
          ],
          "name": "stdout"
        }
      ]
    },
    {
      "cell_type": "code",
      "metadata": {
        "id": "0yPWgXysePpi"
      },
      "source": [
        "# Import the libraries\n",
        "from newspaper import Article\n",
        "import random\n",
        "import string\n",
        "import nltk\n",
        "from sklearn.feature_extraction.text import CountVectorizer\n",
        "from sklearn.metrics.pairwise import cosine_similarity\n",
        "import numpy as np\n",
        "import warnings\n",
        "warnings.filterwarnings('ignore')"
      ],
      "execution_count": null,
      "outputs": []
    },
    {
      "cell_type": "code",
      "metadata": {
        "colab": {
          "base_uri": "https://localhost:8080/"
        },
        "id": "vLl8-CcJiusL",
        "outputId": "8ef609b4-5fa9-4645-c68c-8f299450d84f"
      },
      "source": [
        "# Download the punkt package\n",
        "nltk.download('punkt', quiet=True)"
      ],
      "execution_count": null,
      "outputs": [
        {
          "output_type": "execute_result",
          "data": {
            "text/plain": [
              "True"
            ]
          },
          "metadata": {
            "tags": []
          },
          "execution_count": 6
        }
      ]
    },
    {
      "cell_type": "code",
      "metadata": {
        "id": "Txqm0OzrfUvu"
      },
      "source": [
        "# Get the article\n",
        "article = Article('https://www.mayoclinic.org/diseases-conditions/diabetes/symptoms-causes/syc-20371444')\n",
        "article.download()\n",
        "article.parse()\n",
        "article.nlp()\n",
        "corpus = article.text"
      ],
      "execution_count": null,
      "outputs": []
    },
    {
      "cell_type": "code",
      "metadata": {
        "colab": {
          "base_uri": "https://localhost:8080/"
        },
        "id": "hjrHG9mNkQS-",
        "outputId": "d2df4434-25c9-4f5f-91ca-851529556771"
      },
      "source": [
        "# Print the articles text\n",
        "print(corpus)"
      ],
      "execution_count": null,
      "outputs": [
        {
          "output_type": "stream",
          "text": [
            "Overview\n",
            "\n",
            "Diabetes mellitus refers to a group of diseases that affect how your body uses blood sugar (glucose). Glucose is vital to your health because it's an important source of energy for the cells that make up your muscles and tissues. It's also your brain's main source of fuel.\n",
            "\n",
            "The underlying cause of diabetes varies by type. But, no matter what type of diabetes you have, it can lead to excess sugar in your blood. Too much sugar in your blood can lead to serious health problems.\n",
            "\n",
            "Chronic diabetes conditions include type 1 diabetes and type 2 diabetes. Potentially reversible diabetes conditions include prediabetes and gestational diabetes. Prediabetes occurs when your blood sugar levels are higher than normal, but not high enough to be classified as diabetes. And prediabetes is often the precursor of diabetes unless appropriate measures are taken to prevent progression. Gestational diabetes occurs during pregnancy but may resolve after the baby is delivered.\n",
            "\n",
            "Products & Services Book: The Essential Diabetes Book\n",
            "\n",
            "Symptoms\n",
            "\n",
            "Diabetes symptoms vary depending on how much your blood sugar is elevated. Some people, especially those with prediabetes or type 2 diabetes, may sometimes not experience symptoms. In type 1 diabetes, symptoms tend to come on quickly and be more severe.\n",
            "\n",
            "Some of the signs and symptoms of type 1 diabetes and type 2 diabetes are:\n",
            "\n",
            "Increased thirst\n",
            "\n",
            "Frequent urination\n",
            "\n",
            "Extreme hunger\n",
            "\n",
            "Unexplained weight loss\n",
            "\n",
            "Presence of ketones in the urine (ketones are a byproduct of the breakdown of muscle and fat that happens when there's not enough available insulin)\n",
            "\n",
            "Fatigue\n",
            "\n",
            "Irritability\n",
            "\n",
            "Blurred vision\n",
            "\n",
            "Slow-healing sores\n",
            "\n",
            "Frequent infections, such as gums or skin infections and vaginal infections\n",
            "\n",
            "Type 1 diabetes can develop at any age, though it often appears during childhood or adolescence. Type 2 diabetes, the more common type, can develop at any age, though it's more common in people older than 40.\n",
            "\n",
            "When to see a doctor\n",
            "\n",
            "If you suspect you or your child may have diabetes. If you notice any possible diabetes symptoms, contact your doctor. The earlier the condition is diagnosed, the sooner treatment can begin.\n",
            "\n",
            "If you notice any possible diabetes symptoms, contact your doctor. The earlier the condition is diagnosed, the sooner treatment can begin. If you've already been diagnosed with diabetes. After you receive your diagnosis, you'll need close medical follow-up until your blood sugar levels stabilize.\n",
            "\n",
            "Causes\n",
            "\n",
            "To understand diabetes, first you must understand how glucose is normally processed in the body.\n",
            "\n",
            "How insulin works\n",
            "\n",
            "Insulin is a hormone that comes from a gland situated behind and below the stomach (pancreas).\n",
            "\n",
            "The pancreas secretes insulin into the bloodstream.\n",
            "\n",
            "The insulin circulates, enabling sugar to enter your cells.\n",
            "\n",
            "Insulin lowers the amount of sugar in your bloodstream.\n",
            "\n",
            "As your blood sugar level drops, so does the secretion of insulin from your pancreas.\n",
            "\n",
            "The role of glucose\n",
            "\n",
            "Glucose — a sugar — is a source of energy for the cells that make up muscles and other tissues.\n",
            "\n",
            "Glucose comes from two major sources: food and your liver.\n",
            "\n",
            "Sugar is absorbed into the bloodstream, where it enters cells with the help of insulin.\n",
            "\n",
            "Your liver stores and makes glucose.\n",
            "\n",
            "When your glucose levels are low, such as when you haven't eaten in a while, the liver breaks down stored glycogen into glucose to keep your glucose level within a normal range.\n",
            "\n",
            "Causes of type 1 diabetes\n",
            "\n",
            "The exact cause of type 1 diabetes is unknown. What is known is that your immune system — which normally fights harmful bacteria or viruses — attacks and destroys your insulin-producing cells in the pancreas. This leaves you with little or no insulin. Instead of being transported into your cells, sugar builds up in your bloodstream.\n",
            "\n",
            "Type 1 is thought to be caused by a combination of genetic susceptibility and environmental factors, though exactly what those factors are is still unclear. Weight is not believed to be a factor in type 1 diabetes.\n",
            "\n",
            "Causes of prediabetes and type 2 diabetes\n",
            "\n",
            "In prediabetes — which can lead to type 2 diabetes — and in type 2 diabetes, your cells become resistant to the action of insulin, and your pancreas is unable to make enough insulin to overcome this resistance. Instead of moving into your cells where it's needed for energy, sugar builds up in your bloodstream.\n",
            "\n",
            "Exactly why this happens is uncertain, although it's believed that genetic and environmental factors play a role in the development of type 2 diabetes too. Being overweight is strongly linked to the development of type 2 diabetes, but not everyone with type 2 is overweight.\n",
            "\n",
            "Causes of gestational diabetes\n",
            "\n",
            "During pregnancy, the placenta produces hormones to sustain your pregnancy. These hormones make your cells more resistant to insulin.\n",
            "\n",
            "Normally, your pancreas responds by producing enough extra insulin to overcome this resistance. But sometimes your pancreas can't keep up. When this happens, too little glucose gets into your cells and too much stays in your blood, resulting in gestational diabetes.\n",
            "\n",
            "Risk factors\n",
            "\n",
            "Risk factors for diabetes depend on the type of diabetes.\n",
            "\n",
            "Risk factors for type 1 diabetes\n",
            "\n",
            "Although the exact cause of type 1 diabetes is unknown, factors that may signal an increased risk include:\n",
            "\n",
            "Family history. Your risk increases if a parent or sibling has type 1 diabetes.\n",
            "\n",
            "Your risk increases if a parent or sibling has type 1 diabetes. Environmental factors. Circumstances such as exposure to a viral illness likely play some role in type 1 diabetes.\n",
            "\n",
            "Circumstances such as exposure to a viral illness likely play some role in type 1 diabetes. The presence of damaging immune system cells (autoantibodies). Sometimes family members of people with type 1 diabetes are tested for the presence of diabetes autoantibodies. If you have these autoantibodies, you have an increased risk of developing type 1 diabetes. But not everyone who has these autoantibodies develops diabetes.\n",
            "\n",
            "Sometimes family members of people with type 1 diabetes are tested for the presence of diabetes autoantibodies. If you have these autoantibodies, you have an increased risk of developing type 1 diabetes. But not everyone who has these autoantibodies develops diabetes. Geography. Certain countries, such as Finland and Sweden, have higher rates of type 1 diabetes.\n",
            "\n",
            "Risk factors for prediabetes and type 2 diabetes\n",
            "\n",
            "Researchers don't fully understand why some people develop prediabetes and type 2 diabetes and others don't. It's clear that certain factors increase the risk, however, including:\n",
            "\n",
            "Weight. The more fatty tissue you have, the more resistant your cells become to insulin.\n",
            "\n",
            "The more fatty tissue you have, the more resistant your cells become to insulin. Inactivity. The less active you are, the greater your risk. Physical activity helps you control your weight, uses up glucose as energy and makes your cells more sensitive to insulin.\n",
            "\n",
            "The less active you are, the greater your risk. Physical activity helps you control your weight, uses up glucose as energy and makes your cells more sensitive to insulin. Family history. Your risk increases if a parent or sibling has type 2 diabetes.\n",
            "\n",
            "Your risk increases if a parent or sibling has type 2 diabetes. Race or ethnicity. Although it's unclear why, certain people — including Black, Hispanic, American Indian and Asian American people — are at higher risk.\n",
            "\n",
            "Although it's unclear why, certain people — including Black, Hispanic, American Indian and Asian American people — are at higher risk. Age. Your risk increases as you get older. This may be because you tend to exercise less, lose muscle mass and gain weight as you age. But type 2 diabetes is also increasing among children, adolescents and younger adults.\n",
            "\n",
            "Your risk increases as you get older. This may be because you tend to exercise less, lose muscle mass and gain weight as you age. But type 2 diabetes is also increasing among children, adolescents and younger adults. Gestational diabetes. If you developed gestational diabetes when you were pregnant, your risk of developing prediabetes and type 2 diabetes increases. If you gave birth to a baby weighing more than 9 pounds (4 kilograms), you're also at risk of type 2 diabetes.\n",
            "\n",
            "If you developed gestational diabetes when you were pregnant, your risk of developing prediabetes and type 2 diabetes increases. If you gave birth to a baby weighing more than 9 pounds (4 kilograms), you're also at risk of type 2 diabetes. Polycystic ovary syndrome. For women, having polycystic ovary syndrome — a common condition characterized by irregular menstrual periods, excess hair growth and obesity — increases the risk of diabetes.\n",
            "\n",
            "For women, having polycystic ovary syndrome — a common condition characterized by irregular menstrual periods, excess hair growth and obesity — increases the risk of diabetes. High blood pressure. Having blood pressure over 140/90 millimeters of mercury (mm Hg) is linked to an increased risk of type 2 diabetes.\n",
            "\n",
            "Having blood pressure over 140/90 millimeters of mercury (mm Hg) is linked to an increased risk of type 2 diabetes. Abnormal cholesterol and triglyceride levels. If you have low levels of high-density lipoprotein (HDL), or \"good,\" cholesterol, your risk of type 2 diabetes is higher. Triglycerides are another type of fat carried in the blood. People with high levels of triglycerides have an increased risk of type 2 diabetes. Your doctor can let you know what your cholesterol and triglyceride levels are.\n",
            "\n",
            "Risk factors for gestational diabetes\n",
            "\n",
            "Pregnant women can develop gestational diabetes. Some women are at greater risk than are others. Risk factors for gestational diabetes include:\n",
            "\n",
            "Age. Women older than age 25 are at increased risk.\n",
            "\n",
            "Women older than age 25 are at increased risk. Family or personal history. Your risk increases if you have prediabetes — a precursor to type 2 diabetes — or if a close family member, such as a parent or sibling, has type 2 diabetes. You're also at greater risk if you had gestational diabetes during a previous pregnancy, if you delivered a very large baby or if you had an unexplained stillbirth.\n",
            "\n",
            "Your risk increases if you have prediabetes — a precursor to type 2 diabetes — or if a close family member, such as a parent or sibling, has type 2 diabetes. You're also at greater risk if you had gestational diabetes during a previous pregnancy, if you delivered a very large baby or if you had an unexplained stillbirth. Weight. Being overweight before pregnancy increases your risk.\n",
            "\n",
            "Being overweight before pregnancy increases your risk. Race or ethnicity. For reasons that aren't clear, women who are Black, Hispanic, American Indian or Asian American are more likely to develop gestational diabetes.\n",
            "\n",
            "Complications\n",
            "\n",
            "Long-term complications of diabetes develop gradually. The longer you have diabetes — and the less controlled your blood sugar — the higher the risk of complications. Eventually, diabetes complications may be disabling or even life-threatening. Possible complications include:\n",
            "\n",
            "Cardiovascular disease. Diabetes dramatically increases the risk of various cardiovascular problems, including coronary artery disease with chest pain (angina), heart attack, stroke and narrowing of arteries (atherosclerosis). If you have diabetes, you're more likely to have heart disease or stroke.\n",
            "\n",
            "Diabetes dramatically increases the risk of various cardiovascular problems, including coronary artery disease with chest pain (angina), heart attack, stroke and narrowing of arteries (atherosclerosis). If you have diabetes, you're more likely to have heart disease or stroke. Nerve damage (neuropathy). Excess sugar can injure the walls of the tiny blood vessels (capillaries) that nourish your nerves, especially in your legs. This can cause tingling, numbness, burning or pain that usually begins at the tips of the toes or fingers and gradually spreads upward. Left untreated, you could lose all sense of feeling in the affected limbs. Damage to the nerves related to digestion can cause problems with nausea, vomiting, diarrhea or constipation. For men, it may lead to erectile dysfunction.\n",
            "\n",
            "Kidney damage (nephropathy). The kidneys contain millions of tiny blood vessel clusters (glomeruli) that filter waste from your blood. Diabetes can damage this delicate filtering system. Severe damage can lead to kidney failure or irreversible end-stage kidney disease, which may require dialysis or a kidney transplant.\n",
            "\n",
            "The kidneys contain millions of tiny blood vessel clusters (glomeruli) that filter waste from your blood. Diabetes can damage this delicate filtering system. Severe damage can lead to kidney failure or irreversible end-stage kidney disease, which may require dialysis or a kidney transplant. Eye damage (retinopathy). Diabetes can damage the blood vessels of the retina (diabetic retinopathy), potentially leading to blindness. Diabetes also increases the risk of other serious vision conditions, such as cataracts and glaucoma.\n",
            "\n",
            "Diabetes can damage the blood vessels of the retina (diabetic retinopathy), potentially leading to blindness. Diabetes also increases the risk of other serious vision conditions, such as cataracts and glaucoma. Foot damage. Nerve damage in the feet or poor blood flow to the feet increases the risk of various foot complications. Left untreated, cuts and blisters can develop serious infections, which often heal poorly. These infections may ultimately require toe, foot or leg amputation.\n",
            "\n",
            "Nerve damage in the feet or poor blood flow to the feet increases the risk of various foot complications. Left untreated, cuts and blisters can develop serious infections, which often heal poorly. These infections may ultimately require toe, foot or leg amputation. Skin conditions. Diabetes may leave you more susceptible to skin problems, including bacterial and fungal infections.\n",
            "\n",
            "Diabetes may leave you more susceptible to skin problems, including bacterial and fungal infections. Hearing impairment. Hearing problems are more common in people with diabetes.\n",
            "\n",
            "Hearing problems are more common in people with diabetes. Alzheimer's disease. Type 2 diabetes may increase the risk of dementia, such as Alzheimer's disease. The poorer your blood sugar control, the greater the risk appears to be. Although there are theories as to how these disorders might be connected, none has yet been proved.\n",
            "\n",
            "Type 2 diabetes may increase the risk of dementia, such as Alzheimer's disease. The poorer your blood sugar control, the greater the risk appears to be. Although there are theories as to how these disorders might be connected, none has yet been proved. Depression. Depression symptoms are common in people with type 1 and type 2 diabetes. Depression can affect diabetes management.\n",
            "\n",
            "Complications of gestational diabetes\n",
            "\n",
            "Most women who have gestational diabetes deliver healthy babies. However, untreated or uncontrolled blood sugar levels can cause problems for you and your baby.\n",
            "\n",
            "Complications in your baby can occur as a result of gestational diabetes, including:\n",
            "\n",
            "Excess growth. Extra glucose can cross the placenta, which triggers your baby's pancreas to make extra insulin. This can cause your baby to grow too large (macrosomia). Very large babies are more likely to require a C-section birth.\n",
            "\n",
            "Extra glucose can cross the placenta, which triggers your baby's pancreas to make extra insulin. This can cause your baby to grow too large (macrosomia). Very large babies are more likely to require a C-section birth. Low blood sugar. Sometimes babies of mothers with gestational diabetes develop low blood sugar (hypoglycemia) shortly after birth because their own insulin production is high. Prompt feedings and sometimes an intravenous glucose solution can return the baby's blood sugar level to normal.\n",
            "\n",
            "Sometimes babies of mothers with gestational diabetes develop low blood sugar (hypoglycemia) shortly after birth because their own insulin production is high. Prompt feedings and sometimes an intravenous glucose solution can return the baby's blood sugar level to normal. Type 2 diabetes later in life. Babies of mothers who have gestational diabetes have a higher risk of developing obesity and type 2 diabetes later in life.\n",
            "\n",
            "Babies of mothers who have gestational diabetes have a higher risk of developing obesity and type 2 diabetes later in life. Death. Untreated gestational diabetes can result in a baby's death either before or shortly after birth.\n",
            "\n",
            "Complications in the mother also can occur as a result of gestational diabetes, including:\n",
            "\n",
            "Preeclampsia. This condition is characterized by high blood pressure, excess protein in the urine, and swelling in the legs and feet. Preeclampsia can lead to serious or even life-threatening complications for both mother and baby.\n",
            "\n",
            "This condition is characterized by high blood pressure, excess protein in the urine, and swelling in the legs and feet. Preeclampsia can lead to serious or even life-threatening complications for both mother and baby. Subsequent gestational diabetes. Once you've had gestational diabetes in one pregnancy, you're more likely to have it again with the next pregnancy. You're also more likely to develop diabetes — typically type 2 diabetes — as you get older.\n",
            "\n",
            "Complications of prediabetes\n",
            "\n",
            "Prediabetes may develop into type 2 diabetes.\n",
            "\n",
            "Prevention\n",
            "\n",
            "Type 1 diabetes can't be prevented. However, the same healthy lifestyle choices that help treat prediabetes, type 2 diabetes and gestational diabetes can also help prevent them:\n",
            "\n",
            "Eat healthy foods. Choose foods lower in fat and calories and higher in fiber. Focus on fruits, vegetables and whole grains. Strive for variety to prevent boredom.\n",
            "\n",
            "Choose foods lower in fat and calories and higher in fiber. Focus on fruits, vegetables and whole grains. Strive for variety to prevent boredom. Get more physical activity. Aim for about 30 minutes of moderate aerobic activity on most days of the week, or at least 150 minutes of moderate aerobic activity a week.\n",
            "\n",
            "Aim for about 30 minutes of moderate aerobic activity on most days of the week, or at least 150 minutes of moderate aerobic activity a week. Lose excess pounds. If you're overweight, losing even 7% of your body weight — for example, 14 pounds (6.4 kilograms) if you weigh 200 pounds (90.7 kilograms) — can reduce the risk of diabetes. Don't try to lose weight during pregnancy, however. Talk to your doctor about how much weight is healthy for you to gain during pregnancy. To keep your weight in a healthy range, focus on permanent changes to your eating and exercise habits. Motivate yourself by remembering the benefits of losing weight, such as a healthier heart, more energy and improved self-esteem.\n",
            "\n",
            "Sometimes medication is an option as well. Oral diabetes drugs such as metformin (Glumetza, Fortamet, others) may reduce the risk of type 2 diabetes — but healthy lifestyle choices remain essential. Have your blood sugar checked at least once a year to check that you haven't developed type 2 diabetes.\n"
          ],
          "name": "stdout"
        }
      ]
    },
    {
      "cell_type": "code",
      "metadata": {
        "id": "thoTu6hmmSwb"
      },
      "source": [
        "# Tokenization\n",
        "text = corpus\n",
        "sentence_list = nltk.sent_tokenize(text) # A list of sentences"
      ],
      "execution_count": null,
      "outputs": []
    },
    {
      "cell_type": "code",
      "metadata": {
        "colab": {
          "base_uri": "https://localhost:8080/"
        },
        "id": "yFRzINtNmzdA",
        "outputId": "9afd6095-a3ed-4c06-eaf5-c61c1a33f468"
      },
      "source": [
        "# Print the list of sentences\n",
        "print(sentence_list)"
      ],
      "execution_count": null,
      "outputs": [
        {
          "output_type": "stream",
          "text": [
            "['Overview\\n\\nDiabetes mellitus refers to a group of diseases that affect how your body uses blood sugar (glucose).', \"Glucose is vital to your health because it's an important source of energy for the cells that make up your muscles and tissues.\", \"It's also your brain's main source of fuel.\", 'The underlying cause of diabetes varies by type.', 'But, no matter what type of diabetes you have, it can lead to excess sugar in your blood.', 'Too much sugar in your blood can lead to serious health problems.', 'Chronic diabetes conditions include type 1 diabetes and type 2 diabetes.', 'Potentially reversible diabetes conditions include prediabetes and gestational diabetes.', 'Prediabetes occurs when your blood sugar levels are higher than normal, but not high enough to be classified as diabetes.', 'And prediabetes is often the precursor of diabetes unless appropriate measures are taken to prevent progression.', 'Gestational diabetes occurs during pregnancy but may resolve after the baby is delivered.', 'Products & Services Book: The Essential Diabetes Book\\n\\nSymptoms\\n\\nDiabetes symptoms vary depending on how much your blood sugar is elevated.', 'Some people, especially those with prediabetes or type 2 diabetes, may sometimes not experience symptoms.', 'In type 1 diabetes, symptoms tend to come on quickly and be more severe.', \"Some of the signs and symptoms of type 1 diabetes and type 2 diabetes are:\\n\\nIncreased thirst\\n\\nFrequent urination\\n\\nExtreme hunger\\n\\nUnexplained weight loss\\n\\nPresence of ketones in the urine (ketones are a byproduct of the breakdown of muscle and fat that happens when there's not enough available insulin)\\n\\nFatigue\\n\\nIrritability\\n\\nBlurred vision\\n\\nSlow-healing sores\\n\\nFrequent infections, such as gums or skin infections and vaginal infections\\n\\nType 1 diabetes can develop at any age, though it often appears during childhood or adolescence.\", \"Type 2 diabetes, the more common type, can develop at any age, though it's more common in people older than 40.\", 'When to see a doctor\\n\\nIf you suspect you or your child may have diabetes.', 'If you notice any possible diabetes symptoms, contact your doctor.', 'The earlier the condition is diagnosed, the sooner treatment can begin.', 'If you notice any possible diabetes symptoms, contact your doctor.', 'The earlier the condition is diagnosed, the sooner treatment can begin.', \"If you've already been diagnosed with diabetes.\", \"After you receive your diagnosis, you'll need close medical follow-up until your blood sugar levels stabilize.\", 'Causes\\n\\nTo understand diabetes, first you must understand how glucose is normally processed in the body.', 'How insulin works\\n\\nInsulin is a hormone that comes from a gland situated behind and below the stomach (pancreas).', 'The pancreas secretes insulin into the bloodstream.', 'The insulin circulates, enabling sugar to enter your cells.', 'Insulin lowers the amount of sugar in your bloodstream.', 'As your blood sugar level drops, so does the secretion of insulin from your pancreas.', 'The role of glucose\\n\\nGlucose — a sugar — is a source of energy for the cells that make up muscles and other tissues.', 'Glucose comes from two major sources: food and your liver.', 'Sugar is absorbed into the bloodstream, where it enters cells with the help of insulin.', 'Your liver stores and makes glucose.', \"When your glucose levels are low, such as when you haven't eaten in a while, the liver breaks down stored glycogen into glucose to keep your glucose level within a normal range.\", 'Causes of type 1 diabetes\\n\\nThe exact cause of type 1 diabetes is unknown.', 'What is known is that your immune system — which normally fights harmful bacteria or viruses — attacks and destroys your insulin-producing cells in the pancreas.', 'This leaves you with little or no insulin.', 'Instead of being transported into your cells, sugar builds up in your bloodstream.', 'Type 1 is thought to be caused by a combination of genetic susceptibility and environmental factors, though exactly what those factors are is still unclear.', 'Weight is not believed to be a factor in type 1 diabetes.', 'Causes of prediabetes and type 2 diabetes\\n\\nIn prediabetes — which can lead to type 2 diabetes — and in type 2 diabetes, your cells become resistant to the action of insulin, and your pancreas is unable to make enough insulin to overcome this resistance.', \"Instead of moving into your cells where it's needed for energy, sugar builds up in your bloodstream.\", \"Exactly why this happens is uncertain, although it's believed that genetic and environmental factors play a role in the development of type 2 diabetes too.\", 'Being overweight is strongly linked to the development of type 2 diabetes, but not everyone with type 2 is overweight.', 'Causes of gestational diabetes\\n\\nDuring pregnancy, the placenta produces hormones to sustain your pregnancy.', 'These hormones make your cells more resistant to insulin.', 'Normally, your pancreas responds by producing enough extra insulin to overcome this resistance.', \"But sometimes your pancreas can't keep up.\", 'When this happens, too little glucose gets into your cells and too much stays in your blood, resulting in gestational diabetes.', 'Risk factors\\n\\nRisk factors for diabetes depend on the type of diabetes.', 'Risk factors for type 1 diabetes\\n\\nAlthough the exact cause of type 1 diabetes is unknown, factors that may signal an increased risk include:\\n\\nFamily history.', 'Your risk increases if a parent or sibling has type 1 diabetes.', 'Your risk increases if a parent or sibling has type 1 diabetes.', 'Environmental factors.', 'Circumstances such as exposure to a viral illness likely play some role in type 1 diabetes.', 'Circumstances such as exposure to a viral illness likely play some role in type 1 diabetes.', 'The presence of damaging immune system cells (autoantibodies).', 'Sometimes family members of people with type 1 diabetes are tested for the presence of diabetes autoantibodies.', 'If you have these autoantibodies, you have an increased risk of developing type 1 diabetes.', 'But not everyone who has these autoantibodies develops diabetes.', 'Sometimes family members of people with type 1 diabetes are tested for the presence of diabetes autoantibodies.', 'If you have these autoantibodies, you have an increased risk of developing type 1 diabetes.', 'But not everyone who has these autoantibodies develops diabetes.', 'Geography.', 'Certain countries, such as Finland and Sweden, have higher rates of type 1 diabetes.', \"Risk factors for prediabetes and type 2 diabetes\\n\\nResearchers don't fully understand why some people develop prediabetes and type 2 diabetes and others don't.\", \"It's clear that certain factors increase the risk, however, including:\\n\\nWeight.\", 'The more fatty tissue you have, the more resistant your cells become to insulin.', 'The more fatty tissue you have, the more resistant your cells become to insulin.', 'Inactivity.', 'The less active you are, the greater your risk.', 'Physical activity helps you control your weight, uses up glucose as energy and makes your cells more sensitive to insulin.', 'The less active you are, the greater your risk.', 'Physical activity helps you control your weight, uses up glucose as energy and makes your cells more sensitive to insulin.', 'Family history.', 'Your risk increases if a parent or sibling has type 2 diabetes.', 'Your risk increases if a parent or sibling has type 2 diabetes.', 'Race or ethnicity.', \"Although it's unclear why, certain people — including Black, Hispanic, American Indian and Asian American people — are at higher risk.\", \"Although it's unclear why, certain people — including Black, Hispanic, American Indian and Asian American people — are at higher risk.\", 'Age.', 'Your risk increases as you get older.', 'This may be because you tend to exercise less, lose muscle mass and gain weight as you age.', 'But type 2 diabetes is also increasing among children, adolescents and younger adults.', 'Your risk increases as you get older.', 'This may be because you tend to exercise less, lose muscle mass and gain weight as you age.', 'But type 2 diabetes is also increasing among children, adolescents and younger adults.', 'Gestational diabetes.', 'If you developed gestational diabetes when you were pregnant, your risk of developing prediabetes and type 2 diabetes increases.', \"If you gave birth to a baby weighing more than 9 pounds (4 kilograms), you're also at risk of type 2 diabetes.\", 'If you developed gestational diabetes when you were pregnant, your risk of developing prediabetes and type 2 diabetes increases.', \"If you gave birth to a baby weighing more than 9 pounds (4 kilograms), you're also at risk of type 2 diabetes.\", 'Polycystic ovary syndrome.', 'For women, having polycystic ovary syndrome — a common condition characterized by irregular menstrual periods, excess hair growth and obesity — increases the risk of diabetes.', 'For women, having polycystic ovary syndrome — a common condition characterized by irregular menstrual periods, excess hair growth and obesity — increases the risk of diabetes.', 'High blood pressure.', 'Having blood pressure over 140/90 millimeters of mercury (mm Hg) is linked to an increased risk of type 2 diabetes.', 'Having blood pressure over 140/90 millimeters of mercury (mm Hg) is linked to an increased risk of type 2 diabetes.', 'Abnormal cholesterol and triglyceride levels.', 'If you have low levels of high-density lipoprotein (HDL), or \"good,\" cholesterol, your risk of type 2 diabetes is higher.', 'Triglycerides are another type of fat carried in the blood.', 'People with high levels of triglycerides have an increased risk of type 2 diabetes.', 'Your doctor can let you know what your cholesterol and triglyceride levels are.', 'Risk factors for gestational diabetes\\n\\nPregnant women can develop gestational diabetes.', 'Some women are at greater risk than are others.', 'Risk factors for gestational diabetes include:\\n\\nAge.', 'Women older than age 25 are at increased risk.', 'Women older than age 25 are at increased risk.', 'Family or personal history.', 'Your risk increases if you have prediabetes — a precursor to type 2 diabetes — or if a close family member, such as a parent or sibling, has type 2 diabetes.', \"You're also at greater risk if you had gestational diabetes during a previous pregnancy, if you delivered a very large baby or if you had an unexplained stillbirth.\", 'Your risk increases if you have prediabetes — a precursor to type 2 diabetes — or if a close family member, such as a parent or sibling, has type 2 diabetes.', \"You're also at greater risk if you had gestational diabetes during a previous pregnancy, if you delivered a very large baby or if you had an unexplained stillbirth.\", 'Weight.', 'Being overweight before pregnancy increases your risk.', 'Being overweight before pregnancy increases your risk.', 'Race or ethnicity.', \"For reasons that aren't clear, women who are Black, Hispanic, American Indian or Asian American are more likely to develop gestational diabetes.\", 'Complications\\n\\nLong-term complications of diabetes develop gradually.', 'The longer you have diabetes — and the less controlled your blood sugar — the higher the risk of complications.', 'Eventually, diabetes complications may be disabling or even life-threatening.', 'Possible complications include:\\n\\nCardiovascular disease.', 'Diabetes dramatically increases the risk of various cardiovascular problems, including coronary artery disease with chest pain (angina), heart attack, stroke and narrowing of arteries (atherosclerosis).', \"If you have diabetes, you're more likely to have heart disease or stroke.\", 'Diabetes dramatically increases the risk of various cardiovascular problems, including coronary artery disease with chest pain (angina), heart attack, stroke and narrowing of arteries (atherosclerosis).', \"If you have diabetes, you're more likely to have heart disease or stroke.\", 'Nerve damage (neuropathy).', 'Excess sugar can injure the walls of the tiny blood vessels (capillaries) that nourish your nerves, especially in your legs.', 'This can cause tingling, numbness, burning or pain that usually begins at the tips of the toes or fingers and gradually spreads upward.', 'Left untreated, you could lose all sense of feeling in the affected limbs.', 'Damage to the nerves related to digestion can cause problems with nausea, vomiting, diarrhea or constipation.', 'For men, it may lead to erectile dysfunction.', 'Kidney damage (nephropathy).', 'The kidneys contain millions of tiny blood vessel clusters (glomeruli) that filter waste from your blood.', 'Diabetes can damage this delicate filtering system.', 'Severe damage can lead to kidney failure or irreversible end-stage kidney disease, which may require dialysis or a kidney transplant.', 'The kidneys contain millions of tiny blood vessel clusters (glomeruli) that filter waste from your blood.', 'Diabetes can damage this delicate filtering system.', 'Severe damage can lead to kidney failure or irreversible end-stage kidney disease, which may require dialysis or a kidney transplant.', 'Eye damage (retinopathy).', 'Diabetes can damage the blood vessels of the retina (diabetic retinopathy), potentially leading to blindness.', 'Diabetes also increases the risk of other serious vision conditions, such as cataracts and glaucoma.', 'Diabetes can damage the blood vessels of the retina (diabetic retinopathy), potentially leading to blindness.', 'Diabetes also increases the risk of other serious vision conditions, such as cataracts and glaucoma.', 'Foot damage.', 'Nerve damage in the feet or poor blood flow to the feet increases the risk of various foot complications.', 'Left untreated, cuts and blisters can develop serious infections, which often heal poorly.', 'These infections may ultimately require toe, foot or leg amputation.', 'Nerve damage in the feet or poor blood flow to the feet increases the risk of various foot complications.', 'Left untreated, cuts and blisters can develop serious infections, which often heal poorly.', 'These infections may ultimately require toe, foot or leg amputation.', 'Skin conditions.', 'Diabetes may leave you more susceptible to skin problems, including bacterial and fungal infections.', 'Diabetes may leave you more susceptible to skin problems, including bacterial and fungal infections.', 'Hearing impairment.', 'Hearing problems are more common in people with diabetes.', 'Hearing problems are more common in people with diabetes.', \"Alzheimer's disease.\", \"Type 2 diabetes may increase the risk of dementia, such as Alzheimer's disease.\", 'The poorer your blood sugar control, the greater the risk appears to be.', 'Although there are theories as to how these disorders might be connected, none has yet been proved.', \"Type 2 diabetes may increase the risk of dementia, such as Alzheimer's disease.\", 'The poorer your blood sugar control, the greater the risk appears to be.', 'Although there are theories as to how these disorders might be connected, none has yet been proved.', 'Depression.', 'Depression symptoms are common in people with type 1 and type 2 diabetes.', 'Depression can affect diabetes management.', 'Complications of gestational diabetes\\n\\nMost women who have gestational diabetes deliver healthy babies.', 'However, untreated or uncontrolled blood sugar levels can cause problems for you and your baby.', 'Complications in your baby can occur as a result of gestational diabetes, including:\\n\\nExcess growth.', \"Extra glucose can cross the placenta, which triggers your baby's pancreas to make extra insulin.\", 'This can cause your baby to grow too large (macrosomia).', 'Very large babies are more likely to require a C-section birth.', \"Extra glucose can cross the placenta, which triggers your baby's pancreas to make extra insulin.\", 'This can cause your baby to grow too large (macrosomia).', 'Very large babies are more likely to require a C-section birth.', 'Low blood sugar.', 'Sometimes babies of mothers with gestational diabetes develop low blood sugar (hypoglycemia) shortly after birth because their own insulin production is high.', \"Prompt feedings and sometimes an intravenous glucose solution can return the baby's blood sugar level to normal.\", 'Sometimes babies of mothers with gestational diabetes develop low blood sugar (hypoglycemia) shortly after birth because their own insulin production is high.', \"Prompt feedings and sometimes an intravenous glucose solution can return the baby's blood sugar level to normal.\", 'Type 2 diabetes later in life.', 'Babies of mothers who have gestational diabetes have a higher risk of developing obesity and type 2 diabetes later in life.', 'Babies of mothers who have gestational diabetes have a higher risk of developing obesity and type 2 diabetes later in life.', 'Death.', \"Untreated gestational diabetes can result in a baby's death either before or shortly after birth.\", 'Complications in the mother also can occur as a result of gestational diabetes, including:\\n\\nPreeclampsia.', 'This condition is characterized by high blood pressure, excess protein in the urine, and swelling in the legs and feet.', 'Preeclampsia can lead to serious or even life-threatening complications for both mother and baby.', 'This condition is characterized by high blood pressure, excess protein in the urine, and swelling in the legs and feet.', 'Preeclampsia can lead to serious or even life-threatening complications for both mother and baby.', 'Subsequent gestational diabetes.', \"Once you've had gestational diabetes in one pregnancy, you're more likely to have it again with the next pregnancy.\", \"You're also more likely to develop diabetes — typically type 2 diabetes — as you get older.\", 'Complications of prediabetes\\n\\nPrediabetes may develop into type 2 diabetes.', \"Prevention\\n\\nType 1 diabetes can't be prevented.\", 'However, the same healthy lifestyle choices that help treat prediabetes, type 2 diabetes and gestational diabetes can also help prevent them:\\n\\nEat healthy foods.', 'Choose foods lower in fat and calories and higher in fiber.', 'Focus on fruits, vegetables and whole grains.', 'Strive for variety to prevent boredom.', 'Choose foods lower in fat and calories and higher in fiber.', 'Focus on fruits, vegetables and whole grains.', 'Strive for variety to prevent boredom.', 'Get more physical activity.', 'Aim for about 30 minutes of moderate aerobic activity on most days of the week, or at least 150 minutes of moderate aerobic activity a week.', 'Aim for about 30 minutes of moderate aerobic activity on most days of the week, or at least 150 minutes of moderate aerobic activity a week.', 'Lose excess pounds.', \"If you're overweight, losing even 7% of your body weight — for example, 14 pounds (6.4 kilograms) if you weigh 200 pounds (90.7 kilograms) — can reduce the risk of diabetes.\", \"Don't try to lose weight during pregnancy, however.\", 'Talk to your doctor about how much weight is healthy for you to gain during pregnancy.', 'To keep your weight in a healthy range, focus on permanent changes to your eating and exercise habits.', 'Motivate yourself by remembering the benefits of losing weight, such as a healthier heart, more energy and improved self-esteem.', 'Sometimes medication is an option as well.', 'Oral diabetes drugs such as metformin (Glumetza, Fortamet, others) may reduce the risk of type 2 diabetes — but healthy lifestyle choices remain essential.', \"Have your blood sugar checked at least once a year to check that you haven't developed type 2 diabetes.\"]\n"
          ],
          "name": "stdout"
        }
      ]
    },
    {
      "cell_type": "code",
      "metadata": {
        "id": "YMWYCMjMm5Yu"
      },
      "source": [
        "# A function to return a random greeting response to a users greeting\n",
        "def greeting_response(text):\n",
        "  text = text.lower()\n",
        "\n",
        "  # Bots greeting response\n",
        "  bot_greetings = ['howdy', 'hi', 'hey', 'hello', 'hola']\n",
        "  # Users greeting\n",
        "  user_greetings = ['hi', 'hey', 'hello', 'hola', 'greetings', 'wassup']\n",
        "\n",
        "  \n",
        "  for word in text.split():\n",
        "    if word in user_greetings:\n",
        "      return random.choice(bot_greetings)"
      ],
      "execution_count": null,
      "outputs": []
    },
    {
      "cell_type": "code",
      "metadata": {
        "id": "w4FYCgOLsefe"
      },
      "source": [
        "def index_sort(list_var):\n",
        "  length = len(list_var)\n",
        "  list_index = list(range(0, length))\n",
        "\n",
        "  x = list_var\n",
        "  for i in range(length):\n",
        "    for j in range(length):\n",
        "      if x[list_index[i]] > x[list_index[j]]:\n",
        "        #Swap\n",
        "        temp = list_index[i]\n",
        "        list_index[i] = list_index[j]\n",
        "        list_index[j] = temp\n",
        "\n",
        "  return list_index"
      ],
      "execution_count": null,
      "outputs": []
    },
    {
      "cell_type": "code",
      "metadata": {
        "id": "V1v_sdV_v5xK"
      },
      "source": [
        "# Create the bots response\n",
        "def bot_response(user_input):\n",
        "  user_input = user_input.lower()\n",
        "  sentence_list.append(user_input)\n",
        "  bot_response = ''\n",
        "  cm = CountVectorizer().fit_transform(sentence_list)\n",
        "  similarity_scores = cosine_similarity(cm[-1], cm)\n",
        "  similarity_scores_list = similarity_scores.flatten()\n",
        "  index = index_sort(similarity_scores_list)\n",
        "  index = index[1:]\n",
        "  response_flag = 0\n",
        "\n",
        "  j = 0\n",
        "  for i in range(len(index)):\n",
        "    if similarity_scores_list[index[i]] > 0.0:\n",
        "      bot_response = bot_response+' '+sentence_list[index[i]]\n",
        "      response_flag = 1\n",
        "      j = j+1\n",
        "    if j > 2:\n",
        "      break\n",
        "\n",
        "  if response_flag == 0:\n",
        "    bot_response = bot_response+' '+\"I apologize, I don't understand.\"     \n",
        "\n",
        "  sentence_list.remove(user_input)  \n",
        "\n",
        "  return bot_response\n"
      ],
      "execution_count": null,
      "outputs": []
    },
    {
      "cell_type": "code",
      "metadata": {
        "colab": {
          "base_uri": "https://localhost:8080/"
        },
        "id": "9d2qA-4CENM7",
        "outputId": "67c4e73b-7cf0-4c5a-a699-f90e0eb79da9"
      },
      "source": [
        "# Start the chat\n",
        "print('Doc Bot: I am Doctor Bot or Doc Bot for short. I will answer your queries about Chronic Kidney Disease. If you want to exit, type bye.')\n",
        "\n",
        "exit_list = ['exit', 'see you later', 'bye', 'quit', 'break']\n",
        "\n",
        "while(True):\n",
        "  user_input = input()\n",
        "  if user_input.lower() in exit_list:\n",
        "    print('Doc Bot: Chat with you later!')\n",
        "    break\n",
        "  else:\n",
        "    if greeting_response(user_input)   != None:\n",
        "      print('Doc Bot: '+greeting_response(user_input))\n",
        "    else:\n",
        "      print('Doc Bot: '+bot_response(user_input))"
      ],
      "execution_count": null,
      "outputs": [
        {
          "output_type": "stream",
          "text": [
            "Doc Bot: I am Doctor Bot or Doc Bot for short. I will answer your queries about Chronic Kidney Disease. If you want to exit, type bye.\n",
            "hi\n",
            "Doc Bot: hi\n",
            "how to prevent diabetes\n",
            "Doc Bot:  Strive for variety to prevent boredom. Strive for variety to prevent boredom. Causes of prediabetes and type 2 diabetes\n",
            "\n",
            "In prediabetes — which can lead to type 2 diabetes — and in type 2 diabetes, your cells become resistant to the action of insulin, and your pancreas is unable to make enough insulin to overcome this resistance.\n",
            "what is type 2 diabetes\n",
            "Doc Bot:  Chronic diabetes conditions include type 1 diabetes and type 2 diabetes. Causes of type 1 diabetes\n",
            "\n",
            "The exact cause of type 1 diabetes is unknown. Being overweight is strongly linked to the development of type 2 diabetes, but not everyone with type 2 is overweight.\n",
            "what is type 1 diabetes\n",
            "Doc Bot:  Chronic diabetes conditions include type 1 diabetes and type 2 diabetes. Causes of type 1 diabetes\n",
            "\n",
            "The exact cause of type 1 diabetes is unknown. Being overweight is strongly linked to the development of type 2 diabetes, but not everyone with type 2 is overweight.\n",
            "what are diabetes symptoms?\n",
            "Doc Bot:  Depression symptoms are common in people with type 1 and type 2 diabetes. Products & Services Book: The Essential Diabetes Book\n",
            "\n",
            "Symptoms\n",
            "\n",
            "Diabetes symptoms vary depending on how much your blood sugar is elevated. Chronic diabetes conditions include type 1 diabetes and type 2 diabetes.\n",
            "bye\n",
            "Doc Bot: Chat with you later!\n"
          ],
          "name": "stdout"
        }
      ]
    }
  ]
}